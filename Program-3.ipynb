{
 "cells": [
  {
   "cell_type": "code",
   "execution_count": 1,
   "metadata": {},
   "outputs": [
    {
     "name": "stdout",
     "output_type": "stream",
     "text": [
      "Email validation: True\n",
      "Bangladesh mobile number validation: True\n",
      "USA telephone number validation: False\n",
      "Password validation: False\n"
     ]
    }
   ],
   "source": [
    "import re\n",
    "\n",
    "def validate_email(email):\n",
    "    regex_pattern = r'^[a-zA-Z0-9._%+-]+@[a-zA-Z0-9.-]+\\.[a-zA-Z]{2,}$'\n",
    "    return bool(re.match(regex_pattern, email))\n",
    "\n",
    "def validate_bangladesh_mobile_number(number):\n",
    "    regex_pattern = r'^01[3-9]\\d{8}$'\n",
    "    return bool(re.match(regex_pattern, number))\n",
    "\n",
    "def validate_usa_telephone_number(number):\n",
    "    regex_pattern = r'^\\(?([0-9]{3})\\)?[-.●]?([0-9]{3})[-.●]?([0-9]{4})$'\n",
    "    return bool(re.match(regex_pattern, number))\n",
    "\n",
    "def validate_password(password):\n",
    "    regex_pattern = r'^(?=.*[a-z])(?=.*[A-Z])(?=.*\\d)(?=.*[@$!%*?&])[A-Za-z\\d@$!%*?&]{16}$'\n",
    "    return bool(re.match(regex_pattern, password))\n",
    "\n",
    "# Example usage:\n",
    "email = \"example1@example.com\"\n",
    "bangladesh_mobile_number = \"01712345456\"\n",
    "usa_telephone_number = \"(123) 456-7890\"\n",
    "password = \"Password@12345678\"\n",
    "\n",
    "print(\"Email validation:\", validate_email(email))\n",
    "print(\"Bangladesh mobile number validation:\", validate_bangladesh_mobile_number(bangladesh_mobile_number))\n",
    "print(\"USA telephone number validation:\", validate_usa_telephone_number(usa_telephone_number))\n",
    "print(\"Password validation:\", validate_password(password))"
   ]
  }
 ],
 "metadata": {
  "kernelspec": {
   "display_name": "Python 3",
   "language": "python",
   "name": "python3"
  },
  "language_info": {
   "codemirror_mode": {
    "name": "ipython",
    "version": 3
   },
   "file_extension": ".py",
   "mimetype": "text/x-python",
   "name": "python",
   "nbconvert_exporter": "python",
   "pygments_lexer": "ipython3",
   "version": "3.12.2"
  }
 },
 "nbformat": 4,
 "nbformat_minor": 2
}
